{
 "cells": [
  {
   "cell_type": "code",
   "execution_count": 1,
   "metadata": {},
   "outputs": [
    {
     "name": "stdout",
     "output_type": "stream",
     "text": [
      " F = (b+c)(a-1)\n"
     ]
    }
   ],
   "source": [
    "# Question 1\n",
    "\n",
    "#u = a * b\n",
    "#v = a * c\n",
    "#w = b + c\n",
    "#F = u + v - w\n",
    "\n",
    "#F = ab + ac - (b+c)\n",
    "#F = a(b+c) - (b+c)\n",
    "#F = (b+c)(a-1)\n",
    "\n",
    "print(\" F = (b+c)(a-1)\")"
   ]
  },
  {
   "cell_type": "code",
   "execution_count": 2,
   "metadata": {},
   "outputs": [
    {
     "data": {
      "text/plain": [
       "21.3408"
      ]
     },
     "execution_count": 2,
     "metadata": {},
     "output_type": "execute_result"
    }
   ],
   "source": [
    "# Question 2\n",
    "\n",
    "# Inputs \n",
    "\n",
    "x0 = -0.06\n",
    "x1 = -2.5\n",
    "x2 = 1.4\n",
    "\n",
    "# Weights\n",
    "\n",
    "w0 = 2.7\n",
    "w1 = -8.6\n",
    "w2 = 0.002\n",
    "\n",
    "X = (w0 * x0) + (w1 * x1) + (w2 * x2)\n",
    "X"
   ]
  },
  {
   "cell_type": "code",
   "execution_count": 3,
   "metadata": {},
   "outputs": [],
   "source": [
    "import math"
   ]
  },
  {
   "cell_type": "code",
   "execution_count": 4,
   "metadata": {},
   "outputs": [
    {
     "data": {
      "text/plain": [
       "0.9999999994607274"
      ]
     },
     "execution_count": 4,
     "metadata": {},
     "output_type": "execute_result"
    }
   ],
   "source": [
    "fX = 1 / (1 + math.exp(-X))\n",
    "fX"
   ]
  },
  {
   "cell_type": "code",
   "execution_count": 5,
   "metadata": {},
   "outputs": [
    {
     "name": "stdout",
     "output_type": "stream",
     "text": [
      "0.9999999983799357\n"
     ]
    }
   ],
   "source": [
    "bias = -1.1\n",
    "newX = X + bias\n",
    "newfx = 1 / (1 + math.exp(-newX))\n",
    "print(newfx)"
   ]
  },
  {
   "cell_type": "code",
   "execution_count": null,
   "metadata": {},
   "outputs": [],
   "source": [
    "Bias doesn't affect much as it is very less.\n",
    "\n",
    "Bias can be considered as a negative threshold.\n",
    "A bias can be considered as a method to get output as 1 from the activation function. \n",
    "Bigger the bias value, easier it is to get 1 as the output, but if the bias is negative, it becomes difficult."
   ]
  }
 ],
 "metadata": {
  "kernelspec": {
   "display_name": "Python 3",
   "language": "python",
   "name": "python3"
  },
  "language_info": {
   "codemirror_mode": {
    "name": "ipython",
    "version": 3
   },
   "file_extension": ".py",
   "mimetype": "text/x-python",
   "name": "python",
   "nbconvert_exporter": "python",
   "pygments_lexer": "ipython3",
   "version": "3.6.5"
  }
 },
 "nbformat": 4,
 "nbformat_minor": 2
}
