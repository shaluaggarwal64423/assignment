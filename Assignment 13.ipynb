{
 "cells": [
  {
   "cell_type": "code",
   "execution_count": 44,
   "metadata": {},
   "outputs": [],
   "source": [
    "import matplotlib.pyplot as plt\n",
    "import seaborn as sns\n",
    "import pandas as pd\n",
    "import numpy as np\n",
    "from sklearn.preprocessing import*\n",
    "%matplotlib inline"
   ]
  },
  {
   "cell_type": "code",
   "execution_count": 45,
   "metadata": {},
   "outputs": [],
   "source": [
    "#Question 1\n",
    "from sklearn.datasets import load_digits\n",
    "digits = load_digits()"
   ]
  },
  {
   "cell_type": "code",
   "execution_count": 46,
   "metadata": {},
   "outputs": [
    {
     "data": {
      "text/plain": [
       "((1797, 64), 115008)"
      ]
     },
     "execution_count": 46,
     "metadata": {},
     "output_type": "execute_result"
    }
   ],
   "source": [
    "x=digits.data\n",
    "\n",
    "x.shape,x.size"
   ]
  },
  {
   "cell_type": "code",
   "execution_count": 47,
   "metadata": {},
   "outputs": [
    {
     "data": {
      "text/plain": [
       "((1797,), 1797)"
      ]
     },
     "execution_count": 47,
     "metadata": {},
     "output_type": "execute_result"
    }
   ],
   "source": [
    "y=digits.target\n",
    "y.shape,y.size"
   ]
  },
  {
   "cell_type": "code",
   "execution_count": 48,
   "metadata": {},
   "outputs": [
    {
     "data": {
      "text/plain": [
       "<matplotlib.image.AxesImage at 0xcfa4e33400>"
      ]
     },
     "execution_count": 48,
     "metadata": {},
     "output_type": "execute_result"
    },
    {
     "data": {
      "image/png": "[encoded data removed]",
      "text/plain": [
       "<Figure size 432x288 with 1 Axes>"
      ]
     },
     "metadata": {},
     "output_type": "display_data"
    }
   ],
   "source": [
    "plt.imshow(x[4].reshape(8,8),cmap=plt.cm.gray)"
   ]
  },
  {
   "cell_type": "code",
   "execution_count": 49,
   "metadata": {},
   "outputs": [],
   "source": [
    "#Question 2\n",
    "from sklearn.model_selection import train_test_split\n",
    "x_train,x_test,y_train,y_test=train_test_split(x,y,test_size=0.3,random_state = 101)"
   ]
  },
  {
   "cell_type": "code",
   "execution_count": 50,
   "metadata": {},
   "outputs": [],
   "source": [
    "#Question 3\n",
    "from sklearn.svm import SVC"
   ]
  },
  {
   "cell_type": "code",
   "execution_count": 51,
   "metadata": {},
   "outputs": [
    {
     "data": {
      "text/plain": [
       "SVC(C=1.0, cache_size=200, class_weight=None, coef0=0.0,\n",
       "  decision_function_shape='ovr', degree=3, gamma='auto', kernel='linear',\n",
       "  max_iter=-1, probability=False, random_state=None, shrinking=True,\n",
       "  tol=0.001, verbose=False)"
      ]
     },
     "execution_count": 51,
     "metadata": {},
     "output_type": "execute_result"
    }
   ],
   "source": [
    "# A\n",
    "svc = SVC(kernel = 'linear')\n",
    "svc.fit(x_train, y_train)\n"
   ]
  },
  {
   "cell_type": "code",
   "execution_count": 52,
   "metadata": {},
   "outputs": [
    {
     "data": {
      "text/plain": [
       "array([7, 4, 7, 9, 1, 7, 5, 7, 1, 0, 1, 7, 1, 6, 6, 8, 4, 9, 7, 0, 7, 7,\n",
       "       6, 0, 2, 3, 5, 0, 0, 2, 4, 7, 0, 4, 3, 7, 1, 3, 6, 4, 8, 8, 9, 9,\n",
       "       7, 9, 8, 6, 4, 3, 1, 3, 5, 8, 1, 4, 5, 5, 4, 1, 7, 2, 4, 4, 5, 8,\n",
       "       0, 8, 1, 0, 7, 6, 7, 8, 6, 5, 1, 2, 0, 6, 1, 0, 1, 9, 1, 2, 6, 8,\n",
       "       3, 4, 6, 4, 1, 3, 2, 5, 7, 1, 5, 0, 0, 6, 5, 0, 9, 8, 1, 9, 3, 2,\n",
       "       7, 1, 8, 4, 8, 2, 4, 8, 2, 1, 3, 8, 9, 3, 1, 6, 9, 8, 3, 2, 7, 1,\n",
       "       8, 5, 5, 2, 6, 5, 0, 3, 4, 0, 5, 0, 1, 1, 7, 4, 8, 6, 1, 3, 9, 1,\n",
       "       4, 9, 5, 1, 7, 6, 7, 3, 0, 7, 3, 4, 9, 9, 8, 9, 6, 1, 0, 7, 7, 4,\n",
       "       8, 4, 4, 7, 5, 9, 7, 9, 4, 7, 0, 0, 7, 4, 7, 1, 0, 4, 9, 4, 5, 7,\n",
       "       2, 2, 5, 2, 3, 3, 5, 3, 9, 8, 4, 3, 4, 5, 2, 1, 6, 9, 9, 5, 7, 5,\n",
       "       5, 7, 6, 2, 4, 6, 7, 5, 1, 9, 2, 2, 9, 6, 5, 2, 5, 3, 6, 8, 8, 5,\n",
       "       5, 1, 9, 6, 0, 5, 1, 3, 8, 8, 4, 4, 4, 0, 5, 0, 4, 7, 8, 2, 2, 2,\n",
       "       5, 9, 3, 9, 3, 5, 6, 4, 3, 2, 6, 1, 1, 7, 5, 2, 8, 1, 2, 1, 9, 5,\n",
       "       5, 5, 4, 4, 9, 4, 9, 8, 0, 7, 4, 3, 4, 8, 8, 3, 4, 8, 0, 6, 9, 5,\n",
       "       0, 2, 0, 8, 3, 7, 8, 9, 8, 0, 3, 8, 1, 7, 5, 0, 7, 8, 2, 8, 1, 2,\n",
       "       0, 1, 6, 5, 2, 0, 5, 1, 5, 3, 7, 7, 3, 4, 4, 0, 0, 9, 1, 4, 5, 3,\n",
       "       8, 4, 2, 1, 1, 4, 2, 6, 8, 7, 9, 6, 0, 3, 7, 8, 1, 4, 3, 6, 8, 0,\n",
       "       9, 6, 8, 8, 3, 8, 7, 3, 1, 8, 5, 2, 7, 0, 6, 8, 8, 4, 6, 4, 5, 4,\n",
       "       1, 8, 5, 0, 0, 0, 6, 4, 1, 9, 6, 1, 9, 4, 3, 1, 2, 3, 8, 3, 5, 1,\n",
       "       4, 3, 4, 1, 7, 5, 3, 2, 9, 5, 1, 1, 2, 0, 6, 5, 0, 3, 0, 2, 0, 5,\n",
       "       8, 7, 5, 1, 6, 9, 5, 8, 8, 6, 9, 6, 3, 8, 7, 8, 3, 9, 9, 0, 2, 9,\n",
       "       5, 3, 3, 6, 7, 0, 8, 4, 7, 5, 3, 7, 6, 4, 3, 2, 9, 1, 2, 8, 3, 4,\n",
       "       0, 3, 5, 4, 4, 8, 2, 0, 2, 2, 4, 6, 0, 2, 2, 0, 3, 8, 4, 8, 3, 9,\n",
       "       1, 5, 5, 3, 9, 0, 2, 2, 4, 3, 8, 0, 6, 6, 1, 9, 3, 8, 5, 7, 2, 7,\n",
       "       2, 8, 9, 0, 4, 4, 7, 7, 6, 5, 2, 9])"
      ]
     },
     "execution_count": 52,
     "metadata": {},
     "output_type": "execute_result"
    }
   ],
   "source": [
    "predict = svc.predict(x_test)\n",
    "predict"
   ]
  },
  {
   "cell_type": "code",
   "execution_count": 53,
   "metadata": {},
   "outputs": [
    {
     "name": "stdout",
     "output_type": "stream",
     "text": [
      "             precision    recall  f1-score   support\n",
      "\n",
      "          0       1.00      1.00      1.00        53\n",
      "          1       0.95      0.96      0.95        55\n",
      "          2       1.00      1.00      1.00        49\n",
      "          3       1.00      1.00      1.00        54\n",
      "          4       0.95      0.97      0.96        61\n",
      "          5       0.98      0.98      0.98        59\n",
      "          6       1.00      0.96      0.98        46\n",
      "          7       1.00      0.96      0.98        56\n",
      "          8       0.93      0.97      0.95        59\n",
      "          9       0.98      0.98      0.98        48\n",
      "\n",
      "avg / total       0.98      0.98      0.98       540\n",
      "\n"
     ]
    }
   ],
   "source": [
    "from sklearn.metrics import classification_report\n",
    "print(classification_report(y_test,predict))"
   ]
  },
  {
   "cell_type": "code",
   "execution_count": 54,
   "metadata": {},
   "outputs": [
    {
     "data": {
      "text/plain": [
       "0.9777777777777777"
      ]
     },
     "execution_count": 54,
     "metadata": {},
     "output_type": "execute_result"
    }
   ],
   "source": [
    "from sklearn import metrics\n",
    "metrics.accuracy_score(y_test,predict)"
   ]
  },
  {
   "cell_type": "code",
   "execution_count": 55,
   "metadata": {},
   "outputs": [
    {
     "data": {
      "text/plain": [
       "array([[53,  0,  0,  0,  0,  0,  0,  0,  0,  0],\n",
       "       [ 0, 53,  0,  0,  0,  0,  0,  0,  2,  0],\n",
       "       [ 0,  0, 49,  0,  0,  0,  0,  0,  0,  0],\n",
       "       [ 0,  0,  0, 54,  0,  0,  0,  0,  0,  0],\n",
       "       [ 0,  0,  0,  0, 59,  0,  0,  0,  2,  0],\n",
       "       [ 0,  0,  0,  0,  0, 58,  0,  0,  0,  1],\n",
       "       [ 0,  1,  0,  0,  1,  0, 44,  0,  0,  0],\n",
       "       [ 0,  0,  0,  0,  2,  0,  0, 54,  0,  0],\n",
       "       [ 0,  2,  0,  0,  0,  0,  0,  0, 57,  0],\n",
       "       [ 0,  0,  0,  0,  0,  1,  0,  0,  0, 47]], dtype=int64)"
      ]
     },
     "execution_count": 55,
     "metadata": {},
     "output_type": "execute_result"
    }
   ],
   "source": [
    "from sklearn.metrics import confusion_matrix\n",
    "\n",
    "confusion_matrix(y_test,predict)"
   ]
  },
  {
   "cell_type": "code",
   "execution_count": 56,
   "metadata": {},
   "outputs": [
    {
     "data": {
      "text/plain": [
       "SVC(C=1.0, cache_size=200, class_weight=None, coef0=0.0,\n",
       "  decision_function_shape='ovr', degree=3, gamma='auto', kernel='poly',\n",
       "  max_iter=-1, probability=False, random_state=None, shrinking=True,\n",
       "  tol=0.001, verbose=False)"
      ]
     },
     "execution_count": 56,
     "metadata": {},
     "output_type": "execute_result"
    }
   ],
   "source": [
    "# B\n",
    "svc1=SVC(kernel=\"poly\")\n",
    "\n",
    "svc1.fit(x_train,y_train)"
   ]
  },
  {
   "cell_type": "code",
   "execution_count": 57,
   "metadata": {},
   "outputs": [],
   "source": [
    "predict1=svc1.predict(x_test)"
   ]
  },
  {
   "cell_type": "code",
   "execution_count": 58,
   "metadata": {},
   "outputs": [
    {
     "data": {
      "text/plain": [
       "array([7, 4, 7, 9, 1, 7, 5, 7, 1, 0, 1, 7, 1, 6, 6, 8, 4, 9, 7, 0, 7, 7,\n",
       "       6, 0, 2, 3, 5, 0, 0, 2, 4, 7, 0, 4, 3, 7, 1, 3, 6, 4, 8, 8, 9, 9,\n",
       "       7, 9, 8, 6, 4, 3, 1, 3, 5, 8, 1, 4, 5, 5, 4, 1, 7, 2, 4, 4, 5, 8,\n",
       "       0, 8, 1, 0, 7, 6, 7, 8, 6, 5, 1, 2, 0, 6, 1, 0, 1, 9, 1, 2, 6, 8,\n",
       "       3, 4, 6, 4, 1, 3, 2, 5, 7, 1, 5, 0, 0, 6, 5, 0, 9, 8, 1, 9, 3, 2,\n",
       "       7, 1, 4, 4, 8, 2, 4, 1, 2, 1, 3, 8, 9, 3, 1, 6, 9, 8, 3, 2, 7, 1,\n",
       "       8, 9, 5, 2, 6, 5, 0, 3, 4, 0, 5, 0, 1, 1, 7, 4, 8, 6, 1, 3, 9, 1,\n",
       "       4, 9, 5, 1, 7, 6, 7, 3, 0, 7, 3, 4, 9, 9, 8, 9, 6, 1, 0, 7, 7, 4,\n",
       "       8, 4, 4, 7, 5, 9, 7, 9, 8, 7, 0, 4, 7, 4, 7, 1, 0, 4, 9, 4, 5, 7,\n",
       "       2, 2, 5, 2, 3, 3, 5, 3, 9, 8, 4, 3, 4, 5, 2, 1, 6, 9, 9, 5, 7, 5,\n",
       "       5, 7, 6, 2, 4, 6, 7, 5, 1, 9, 2, 2, 9, 6, 5, 2, 5, 3, 6, 8, 8, 5,\n",
       "       5, 1, 9, 6, 0, 5, 1, 3, 8, 8, 4, 4, 4, 0, 5, 0, 4, 7, 8, 2, 2, 2,\n",
       "       5, 9, 3, 9, 3, 5, 6, 4, 3, 2, 6, 1, 1, 7, 5, 2, 8, 1, 2, 1, 9, 5,\n",
       "       5, 5, 4, 4, 9, 4, 9, 8, 0, 7, 4, 3, 4, 8, 8, 3, 4, 8, 0, 6, 9, 5,\n",
       "       0, 2, 0, 8, 3, 7, 8, 9, 8, 0, 3, 8, 1, 7, 5, 0, 7, 8, 2, 8, 1, 2,\n",
       "       0, 1, 6, 5, 2, 0, 5, 1, 5, 3, 7, 7, 3, 4, 4, 0, 0, 9, 1, 4, 5, 3,\n",
       "       8, 4, 2, 1, 1, 4, 2, 6, 8, 7, 9, 6, 0, 3, 7, 8, 1, 4, 3, 6, 8, 0,\n",
       "       9, 6, 8, 8, 3, 8, 7, 3, 1, 4, 5, 2, 7, 0, 6, 8, 8, 4, 6, 4, 5, 4,\n",
       "       1, 8, 5, 0, 0, 0, 6, 4, 1, 9, 6, 1, 9, 4, 3, 1, 2, 3, 8, 3, 5, 1,\n",
       "       4, 3, 4, 1, 7, 5, 3, 2, 9, 5, 1, 1, 2, 0, 6, 5, 0, 3, 0, 2, 0, 5,\n",
       "       8, 7, 5, 6, 6, 9, 5, 8, 8, 6, 9, 6, 3, 8, 7, 8, 3, 9, 9, 0, 2, 9,\n",
       "       5, 3, 3, 6, 7, 0, 8, 4, 7, 5, 3, 7, 6, 4, 3, 2, 9, 8, 2, 1, 3, 4,\n",
       "       0, 3, 5, 4, 4, 8, 2, 0, 2, 2, 7, 6, 0, 2, 2, 0, 3, 8, 4, 8, 3, 9,\n",
       "       1, 5, 5, 3, 9, 0, 2, 2, 4, 3, 8, 0, 6, 6, 1, 9, 3, 8, 5, 7, 2, 7,\n",
       "       2, 8, 9, 0, 7, 4, 7, 7, 6, 5, 2, 9])"
      ]
     },
     "execution_count": 58,
     "metadata": {},
     "output_type": "execute_result"
    }
   ],
   "source": [
    "predict1"
   ]
  },
  {
   "cell_type": "code",
   "execution_count": 59,
   "metadata": {},
   "outputs": [
    {
     "name": "stdout",
     "output_type": "stream",
     "text": [
      "             precision    recall  f1-score   support\n",
      "\n",
      "          0       1.00      0.98      0.99        53\n",
      "          1       0.98      1.00      0.99        55\n",
      "          2       1.00      1.00      1.00        49\n",
      "          3       1.00      1.00      1.00        54\n",
      "          4       0.98      1.00      0.99        61\n",
      "          5       1.00      0.98      0.99        59\n",
      "          6       1.00      0.98      0.99        46\n",
      "          7       1.00      1.00      1.00        56\n",
      "          8       0.98      0.98      0.98        59\n",
      "          9       0.98      1.00      0.99        48\n",
      "\n",
      "avg / total       0.99      0.99      0.99       540\n",
      "\n"
     ]
    }
   ],
   "source": [
    "print(classification_report(y_test,predict1))"
   ]
  },
  {
   "cell_type": "code",
   "execution_count": 60,
   "metadata": {},
   "outputs": [
    {
     "data": {
      "text/plain": [
       "0.9925925925925926"
      ]
     },
     "execution_count": 60,
     "metadata": {},
     "output_type": "execute_result"
    }
   ],
   "source": [
    "metrics.accuracy_score(y_test,predict1)"
   ]
  },
  {
   "cell_type": "code",
   "execution_count": 61,
   "metadata": {},
   "outputs": [
    {
     "data": {
      "text/plain": [
       "array([[52,  0,  0,  0,  1,  0,  0,  0,  0,  0],\n",
       "       [ 0, 55,  0,  0,  0,  0,  0,  0,  0,  0],\n",
       "       [ 0,  0, 49,  0,  0,  0,  0,  0,  0,  0],\n",
       "       [ 0,  0,  0, 54,  0,  0,  0,  0,  0,  0],\n",
       "       [ 0,  0,  0,  0, 61,  0,  0,  0,  0,  0],\n",
       "       [ 0,  0,  0,  0,  0, 58,  0,  0,  0,  1],\n",
       "       [ 0,  0,  0,  0,  0,  0, 45,  0,  1,  0],\n",
       "       [ 0,  0,  0,  0,  0,  0,  0, 56,  0,  0],\n",
       "       [ 0,  1,  0,  0,  0,  0,  0,  0, 58,  0],\n",
       "       [ 0,  0,  0,  0,  0,  0,  0,  0,  0, 48]], dtype=int64)"
      ]
     },
     "execution_count": 61,
     "metadata": {},
     "output_type": "execute_result"
    }
   ],
   "source": [
    "confusion_matrix(y_test,predict1)"
   ]
  },
  {
   "cell_type": "code",
   "execution_count": 62,
   "metadata": {},
   "outputs": [
    {
     "data": {
      "text/plain": [
       "SVC(C=1.0, cache_size=200, class_weight=None, coef0=0.0,\n",
       "  decision_function_shape='ovr', degree=3, gamma='auto', kernel='rbf',\n",
       "  max_iter=-1, probability=False, random_state=None, shrinking=True,\n",
       "  tol=0.001, verbose=False)"
      ]
     },
     "execution_count": 62,
     "metadata": {},
     "output_type": "execute_result"
    }
   ],
   "source": [
    "# C\n",
    "svc_classifier=SVC(kernel=\"rbf\")\n",
    "\n",
    "svc_classifier.fit(x_train,y_train)"
   ]
  },
  {
   "cell_type": "code",
   "execution_count": 63,
   "metadata": {},
   "outputs": [],
   "source": [
    "pre=svc_classifier.predict(x_test)"
   ]
  },
  {
   "cell_type": "code",
   "execution_count": 64,
   "metadata": {},
   "outputs": [
    {
     "data": {
      "text/plain": [
       "array([7, 9, 7, 9, 9, 9, 9, 9, 9, 0, 9, 7, 1, 6, 9, 9, 9, 9, 9, 9, 9, 9,\n",
       "       6, 0, 9, 9, 9, 9, 9, 9, 4, 9, 9, 4, 9, 7, 9, 3, 6, 4, 9, 9, 9, 9,\n",
       "       9, 9, 8, 6, 9, 3, 1, 9, 9, 9, 9, 9, 9, 9, 4, 9, 9, 9, 9, 9, 9, 9,\n",
       "       0, 9, 1, 0, 9, 6, 9, 9, 6, 9, 9, 2, 0, 9, 9, 9, 1, 9, 9, 9, 6, 9,\n",
       "       9, 9, 9, 9, 9, 3, 2, 5, 9, 9, 5, 9, 9, 9, 9, 0, 9, 9, 9, 9, 3, 2,\n",
       "       9, 1, 9, 9, 9, 2, 9, 9, 2, 1, 3, 9, 9, 9, 9, 6, 9, 9, 3, 2, 9, 9,\n",
       "       9, 9, 9, 9, 6, 9, 0, 3, 9, 9, 9, 0, 1, 9, 9, 4, 9, 9, 9, 9, 9, 1,\n",
       "       9, 9, 9, 9, 9, 6, 7, 3, 9, 9, 3, 9, 9, 9, 9, 9, 6, 1, 0, 9, 9, 9,\n",
       "       9, 9, 9, 9, 5, 9, 9, 9, 9, 9, 9, 9, 7, 9, 9, 9, 9, 9, 9, 4, 9, 7,\n",
       "       2, 9, 9, 9, 3, 3, 9, 3, 9, 9, 4, 9, 9, 5, 2, 9, 6, 9, 9, 9, 9, 9,\n",
       "       9, 7, 9, 2, 9, 6, 9, 9, 1, 9, 9, 2, 9, 6, 9, 9, 9, 9, 6, 8, 9, 9,\n",
       "       9, 1, 9, 9, 9, 9, 9, 3, 9, 9, 9, 4, 4, 9, 9, 0, 9, 7, 9, 9, 9, 9,\n",
       "       9, 9, 9, 9, 3, 5, 6, 9, 9, 2, 6, 9, 9, 9, 5, 2, 9, 9, 2, 9, 9, 9,\n",
       "       9, 9, 4, 9, 9, 9, 9, 9, 9, 9, 4, 9, 9, 9, 9, 9, 9, 9, 0, 6, 9, 9,\n",
       "       9, 9, 9, 9, 3, 9, 9, 9, 9, 0, 9, 9, 9, 9, 5, 0, 9, 9, 9, 9, 1, 9,\n",
       "       0, 1, 6, 9, 9, 0, 9, 1, 9, 9, 7, 7, 9, 4, 4, 0, 9, 9, 1, 9, 9, 9,\n",
       "       9, 9, 9, 9, 1, 4, 9, 6, 9, 7, 9, 6, 0, 9, 9, 9, 9, 9, 3, 6, 9, 9,\n",
       "       9, 6, 9, 9, 3, 9, 9, 3, 1, 9, 9, 9, 9, 9, 6, 9, 9, 9, 6, 4, 9, 9,\n",
       "       1, 9, 9, 0, 0, 9, 6, 9, 1, 9, 6, 9, 9, 9, 3, 9, 2, 9, 9, 3, 9, 9,\n",
       "       4, 9, 9, 9, 9, 9, 9, 2, 9, 9, 9, 9, 2, 0, 6, 9, 9, 3, 9, 2, 9, 9,\n",
       "       9, 7, 9, 9, 6, 9, 9, 9, 9, 9, 9, 6, 9, 9, 7, 9, 3, 9, 9, 0, 9, 9,\n",
       "       9, 9, 9, 6, 9, 9, 9, 9, 7, 9, 9, 9, 6, 9, 9, 9, 9, 9, 2, 9, 9, 4,\n",
       "       0, 3, 9, 9, 9, 9, 9, 9, 9, 9, 9, 6, 9, 9, 9, 0, 9, 9, 9, 9, 3, 9,\n",
       "       9, 9, 9, 9, 9, 0, 9, 9, 9, 3, 9, 9, 6, 6, 9, 9, 3, 9, 9, 9, 2, 9,\n",
       "       2, 9, 9, 0, 9, 9, 9, 9, 9, 9, 2, 9])"
      ]
     },
     "execution_count": 64,
     "metadata": {},
     "output_type": "execute_result"
    }
   ],
   "source": [
    "pre"
   ]
  },
  {
   "cell_type": "code",
   "execution_count": 65,
   "metadata": {},
   "outputs": [
    {
     "name": "stdout",
     "output_type": "stream",
     "text": [
      "             precision    recall  f1-score   support\n",
      "\n",
      "          0       1.00      0.47      0.64        53\n",
      "          1       1.00      0.35      0.51        55\n",
      "          2       1.00      0.43      0.60        49\n",
      "          3       1.00      0.48      0.65        54\n",
      "          4       1.00      0.28      0.44        61\n",
      "          5       1.00      0.12      0.21        59\n",
      "          6       1.00      0.76      0.86        46\n",
      "          7       1.00      0.27      0.42        56\n",
      "          8       1.00      0.03      0.07        59\n",
      "          9       0.13      1.00      0.23        48\n",
      "\n",
      "avg / total       0.92      0.40      0.45       540\n",
      "\n"
     ]
    }
   ],
   "source": [
    "print(classification_report(y_test,pre))"
   ]
  },
  {
   "cell_type": "code",
   "execution_count": 66,
   "metadata": {},
   "outputs": [
    {
     "data": {
      "text/plain": [
       "0.39814814814814814"
      ]
     },
     "execution_count": 66,
     "metadata": {},
     "output_type": "execute_result"
    }
   ],
   "source": [
    "metrics.accuracy_score (y_test,pre)"
   ]
  },
  {
   "cell_type": "code",
   "execution_count": 67,
   "metadata": {},
   "outputs": [
    {
     "data": {
      "text/plain": [
       "array([[25,  0,  0,  0,  0,  0,  0,  0,  0, 28],\n",
       "       [ 0, 19,  0,  0,  0,  0,  0,  0,  0, 36],\n",
       "       [ 0,  0, 21,  0,  0,  0,  0,  0,  0, 28],\n",
       "       [ 0,  0,  0, 26,  0,  0,  0,  0,  0, 28],\n",
       "       [ 0,  0,  0,  0, 17,  0,  0,  0,  0, 44],\n",
       "       [ 0,  0,  0,  0,  0,  7,  0,  0,  0, 52],\n",
       "       [ 0,  0,  0,  0,  0,  0, 35,  0,  0, 11],\n",
       "       [ 0,  0,  0,  0,  0,  0,  0, 15,  0, 41],\n",
       "       [ 0,  0,  0,  0,  0,  0,  0,  0,  2, 57],\n",
       "       [ 0,  0,  0,  0,  0,  0,  0,  0,  0, 48]], dtype=int64)"
      ]
     },
     "execution_count": 67,
     "metadata": {},
     "output_type": "execute_result"
    }
   ],
   "source": [
    "confusion_matrix(y_test,pre)"
   ]
  },
  {
   "cell_type": "code",
   "execution_count": 68,
   "metadata": {},
   "outputs": [
    {
     "data": {
      "text/plain": [
       "SVC(C=1.0, cache_size=200, class_weight=None, coef0=0.0,\n",
       "  decision_function_shape='ovr', degree=3, gamma='auto', kernel='sigmoid',\n",
       "  max_iter=-1, probability=False, random_state=None, shrinking=True,\n",
       "  tol=0.001, verbose=False)"
      ]
     },
     "execution_count": 68,
     "metadata": {},
     "output_type": "execute_result"
    }
   ],
   "source": [
    "# D\n",
    "svc2=SVC(kernel=\"sigmoid\")\n",
    "\n",
    "svc2.fit(x_train,y_train)"
   ]
  },
  {
   "cell_type": "code",
   "execution_count": 69,
   "metadata": {},
   "outputs": [],
   "source": [
    "predict3=svc2.predict(x_test)"
   ]
  },
  {
   "cell_type": "code",
   "execution_count": 70,
   "metadata": {},
   "outputs": [
    {
     "data": {
      "text/plain": [
       "array([6, 6, 6, 6, 6, 6, 6, 6, 6, 6, 6, 6, 6, 6, 6, 6, 6, 6, 6, 6, 6, 6,\n",
       "       6, 6, 6, 6, 6, 6, 6, 6, 6, 6, 6, 6, 6, 6, 6, 6, 6, 6, 6, 6, 6, 6,\n",
       "       6, 6, 6, 6, 6, 6, 6, 6, 6, 6, 6, 6, 6, 6, 6, 6, 6, 6, 6, 6, 6, 6,\n",
       "       6, 6, 6, 6, 6, 6, 6, 6, 6, 6, 6, 6, 6, 6, 6, 6, 6, 6, 6, 6, 6, 6,\n",
       "       6, 6, 6, 6, 6, 6, 6, 6, 6, 6, 6, 6, 6, 6, 6, 6, 6, 6, 6, 6, 6, 6,\n",
       "       6, 6, 6, 6, 6, 6, 6, 6, 6, 6, 6, 6, 6, 6, 6, 6, 6, 6, 6, 6, 6, 6,\n",
       "       6, 6, 6, 6, 6, 6, 6, 6, 6, 6, 6, 6, 6, 6, 6, 6, 6, 6, 6, 6, 6, 6,\n",
       "       6, 6, 6, 6, 6, 6, 6, 6, 6, 6, 6, 6, 6, 6, 6, 6, 6, 6, 6, 6, 6, 6,\n",
       "       6, 6, 6, 6, 6, 6, 6, 6, 6, 6, 6, 6, 6, 6, 6, 6, 6, 6, 6, 6, 6, 6,\n",
       "       6, 6, 6, 6, 6, 6, 6, 6, 6, 6, 6, 6, 6, 6, 6, 6, 6, 6, 6, 6, 6, 6,\n",
       "       6, 6, 6, 6, 6, 6, 6, 6, 6, 6, 6, 6, 6, 6, 6, 6, 6, 6, 6, 6, 6, 6,\n",
       "       6, 6, 6, 6, 6, 6, 6, 6, 6, 6, 6, 6, 6, 6, 6, 6, 6, 6, 6, 6, 6, 6,\n",
       "       6, 6, 6, 6, 6, 6, 6, 6, 6, 6, 6, 6, 6, 6, 6, 6, 6, 6, 6, 6, 6, 6,\n",
       "       6, 6, 6, 6, 6, 6, 6, 6, 6, 6, 6, 6, 6, 6, 6, 6, 6, 6, 6, 6, 6, 6,\n",
       "       6, 6, 6, 6, 6, 6, 6, 6, 6, 6, 6, 6, 6, 6, 6, 6, 6, 6, 6, 6, 6, 6,\n",
       "       6, 6, 6, 6, 6, 6, 6, 6, 6, 6, 6, 6, 6, 6, 6, 6, 6, 6, 6, 6, 6, 6,\n",
       "       6, 6, 6, 6, 6, 6, 6, 6, 6, 6, 6, 6, 6, 6, 6, 6, 6, 6, 6, 6, 6, 6,\n",
       "       6, 6, 6, 6, 6, 6, 6, 6, 6, 6, 6, 6, 6, 6, 6, 6, 6, 6, 6, 6, 6, 6,\n",
       "       6, 6, 6, 6, 6, 6, 6, 6, 6, 6, 6, 6, 6, 6, 6, 6, 6, 6, 6, 6, 6, 6,\n",
       "       6, 6, 6, 6, 6, 6, 6, 6, 6, 6, 6, 6, 6, 6, 6, 6, 6, 6, 6, 6, 6, 6,\n",
       "       6, 6, 6, 6, 6, 6, 6, 6, 6, 6, 6, 6, 6, 6, 6, 6, 6, 6, 6, 6, 6, 6,\n",
       "       6, 6, 6, 6, 6, 6, 6, 6, 6, 6, 6, 6, 6, 6, 6, 6, 6, 6, 6, 6, 6, 6,\n",
       "       6, 6, 6, 6, 6, 6, 6, 6, 6, 6, 6, 6, 6, 6, 6, 6, 6, 6, 6, 6, 6, 6,\n",
       "       6, 6, 6, 6, 6, 6, 6, 6, 6, 6, 6, 6, 6, 6, 6, 6, 6, 6, 6, 6, 6, 6,\n",
       "       6, 6, 6, 6, 6, 6, 6, 6, 6, 6, 6, 6])"
      ]
     },
     "execution_count": 70,
     "metadata": {},
     "output_type": "execute_result"
    }
   ],
   "source": [
    "predict3"
   ]
  },
  {
   "cell_type": "code",
   "execution_count": 71,
   "metadata": {},
   "outputs": [
    {
     "name": "stdout",
     "output_type": "stream",
     "text": [
      "             precision    recall  f1-score   support\n",
      "\n",
      "          0       0.00      0.00      0.00        53\n",
      "          1       0.00      0.00      0.00        55\n",
      "          2       0.00      0.00      0.00        49\n",
      "          3       0.00      0.00      0.00        54\n",
      "          4       0.00      0.00      0.00        61\n",
      "          5       0.00      0.00      0.00        59\n",
      "          6       0.09      1.00      0.16        46\n",
      "          7       0.00      0.00      0.00        56\n",
      "          8       0.00      0.00      0.00        59\n",
      "          9       0.00      0.00      0.00        48\n",
      "\n",
      "avg / total       0.01      0.09      0.01       540\n",
      "\n"
     ]
    },
    {
     "name": "stderr",
     "output_type": "stream",
     "text": [
      "C:\\ProgramData\\Anaconda3\\lib\\site-packages\\sklearn\\metrics\\classification.py:1135: UndefinedMetricWarning: Precision and F-score are ill-defined and being set to 0.0 in labels with no predicted samples.\n",
      "  'precision', 'predicted', average, warn_for)\n"
     ]
    }
   ],
   "source": [
    "print(classification_report(y_test,predict3))"
   ]
  },
  {
   "cell_type": "code",
   "execution_count": 72,
   "metadata": {},
   "outputs": [
    {
     "data": {
      "text/plain": [
       "0.08518518518518518"
      ]
     },
     "execution_count": 72,
     "metadata": {},
     "output_type": "execute_result"
    }
   ],
   "source": [
    "\n",
    "metrics.accuracy_score (y_test,predict3)"
   ]
  },
  {
   "cell_type": "code",
   "execution_count": 73,
   "metadata": {},
   "outputs": [
    {
     "data": {
      "text/plain": [
       "array([[ 0,  0,  0,  0,  0,  0, 53,  0,  0,  0],\n",
       "       [ 0,  0,  0,  0,  0,  0, 55,  0,  0,  0],\n",
       "       [ 0,  0,  0,  0,  0,  0, 49,  0,  0,  0],\n",
       "       [ 0,  0,  0,  0,  0,  0, 54,  0,  0,  0],\n",
       "       [ 0,  0,  0,  0,  0,  0, 61,  0,  0,  0],\n",
       "       [ 0,  0,  0,  0,  0,  0, 59,  0,  0,  0],\n",
       "       [ 0,  0,  0,  0,  0,  0, 46,  0,  0,  0],\n",
       "       [ 0,  0,  0,  0,  0,  0, 56,  0,  0,  0],\n",
       "       [ 0,  0,  0,  0,  0,  0, 59,  0,  0,  0],\n",
       "       [ 0,  0,  0,  0,  0,  0, 48,  0,  0,  0]], dtype=int64)"
      ]
     },
     "execution_count": 73,
     "metadata": {},
     "output_type": "execute_result"
    }
   ],
   "source": [
    "confusion_matrix(y_test,predict3)"
   ]
  },
  {
   "cell_type": "code",
   "execution_count": null,
   "metadata": {},
   "outputs": [],
   "source": []
  }
 ],
 "metadata": {
  "kernelspec": {
   "display_name": "Python 3",
   "language": "python",
   "name": "python3"
  },
  "language_info": {
   "codemirror_mode": {
    "name": "ipython",
    "version": 3
   },
   "file_extension": ".py",
   "mimetype": "text/x-python",
   "name": "python",
   "nbconvert_exporter": "python",
   "pygments_lexer": "ipython3",
   "version": "3.6.5"
  }
 },
 "nbformat": 4,
 "nbformat_minor": 2
}
