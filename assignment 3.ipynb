{
 "cells": [
  {
   "cell_type": "code",
   "execution_count": 1,
   "metadata": {},
   "outputs": [
    {
     "name": "stdout",
     "output_type": "stream",
     "text": [
      "P(A):0.3\n",
      "P(B):0.16\n",
      "P(C):0.05\n"
     ]
    },
    {
     "data": {
      "text/plain": [
       "0.02666666666666667"
      ]
     },
     "execution_count": 1,
     "metadata": {},
     "output_type": "execute_result"
    }
   ],
   "source": [
    "#Question 1\n",
    "def prob(A,B,C):\n",
    "    print(\"P(A):%s\" %A)\n",
    "    print(\"P(B):%s\" %B)\n",
    "    print(\"P(C):%s\" %C)\n",
    "    con_prob=(C*B)/A\n",
    "    return con_prob\n",
    "prob(0.30,0.16,0.05)"
   ]
  },
  {
   "cell_type": "code",
   "execution_count": 1,
   "metadata": {},
   "outputs": [
    {
     "name": "stdout",
     "output_type": "stream",
     "text": [
      "0.5833333333333334\n"
     ]
    }
   ],
   "source": [
    "# Question 2\n",
    "# Bag 1 with 4 white and 6 black balls\n",
    "# Bag 2 with 4 white and 3 black balls\n",
    "Bag1=1.0/2 #probability of selecting bag1\n",
    "Bag2=1.0/2 #probability of selecting bag1\n",
    "black1=6.0/10 #probability of selecting black ball from bag1\n",
    "black2=3.0/7  #probability of selecting black ball from bag2\n",
    "prob1=((Bag1*black1)/((Bag1*black1)+(Bag2*black2)))\n",
    "print(prob1)\n",
    "\n"
   ]
  },
  {
   "cell_type": "code",
   "execution_count": 2,
   "metadata": {},
   "outputs": [
    {
     "name": "stdout",
     "output_type": "stream",
     "text": [
      "0.2857142857142857\n"
     ]
    }
   ],
   "source": [
    "# Question 3\n",
    "truth=2.0/3\n",
    "lie=1.0/3\n",
    "\n",
    "gtng4=1.0/6\n",
    "ngtng4=5.0/6\n",
    "\n",
    "prob=((truth*gtng4)/((truth*gtng4)+(lie*ngtng4)))\n",
    "print(prob)"
   ]
  },
  {
   "cell_type": "code",
   "execution_count": null,
   "metadata": {},
   "outputs": [],
   "source": []
  }
 ],
 "metadata": {
  "kernelspec": {
   "display_name": "Python 3",
   "language": "python",
   "name": "python3"
  },
  "language_info": {
   "codemirror_mode": {
    "name": "ipython",
    "version": 3
   },
   "file_extension": ".py",
   "mimetype": "text/x-python",
   "name": "python",
   "nbconvert_exporter": "python",
   "pygments_lexer": "ipython3",
   "version": "3.6.5"
  }
 },
 "nbformat": 4,
 "nbformat_minor": 2
}
