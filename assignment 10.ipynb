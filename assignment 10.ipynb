{
 "cells": [
  {
   "cell_type": "code",
   "execution_count": 11,
   "metadata": {},
   "outputs": [],
   "source": [
    "#importing packages\n",
    "import numpy as np\n",
    "import pandas as pd\n",
    "import matplotlib.pyplot as plt\n",
    "import seaborn as sns\n",
    "%matplotlib inline\n",
    "import re\n",
    "from sklearn.linear_model import LinearRegression\n",
    "from sklearn.linear_model import LogisticRegression\n",
    "from sklearn.model_selection import train_test_split\n",
    "from sklearn.metrics import classification_report\n",
    "from sklearn import model_selection\n",
    "from sklearn.metrics import confusion_matrix\n"
   ]
  },
  {
   "cell_type": "code",
   "execution_count": 12,
   "metadata": {},
   "outputs": [],
   "source": [
    "#Question 1\n",
    "from sklearn.datasets import load_digits"
   ]
  },
  {
   "cell_type": "code",
   "execution_count": 13,
   "metadata": {},
   "outputs": [],
   "source": [
    "#Question 2\n",
    "digit=load_digits()"
   ]
  },
  {
   "cell_type": "code",
   "execution_count": 19,
   "metadata": {},
   "outputs": [],
   "source": [
    "x=digit.data"
   ]
  },
  {
   "cell_type": "code",
   "execution_count": 20,
   "metadata": {},
   "outputs": [
    {
     "data": {
      "text/plain": [
       "(1797, 64)"
      ]
     },
     "execution_count": 20,
     "metadata": {},
     "output_type": "execute_result"
    }
   ],
   "source": [
    "x.shape"
   ]
  },
  {
   "cell_type": "code",
   "execution_count": 21,
   "metadata": {},
   "outputs": [],
   "source": [
    "y=digit.target"
   ]
  },
  {
   "cell_type": "code",
   "execution_count": 22,
   "metadata": {},
   "outputs": [
    {
     "data": {
      "text/plain": [
       "(1797,)"
      ]
     },
     "execution_count": 22,
     "metadata": {},
     "output_type": "execute_result"
    }
   ],
   "source": [
    "y.shape"
   ]
  },
  {
   "cell_type": "code",
   "execution_count": 24,
   "metadata": {},
   "outputs": [
    {
     "data": {
      "text/plain": [
       "115008"
      ]
     },
     "execution_count": 24,
     "metadata": {},
     "output_type": "execute_result"
    }
   ],
   "source": [
    "x.size"
   ]
  },
  {
   "cell_type": "code",
   "execution_count": 25,
   "metadata": {},
   "outputs": [
    {
     "data": {
      "text/plain": [
       "1797"
      ]
     },
     "execution_count": 25,
     "metadata": {},
     "output_type": "execute_result"
    }
   ],
   "source": [
    "y.size"
   ]
  },
  {
   "cell_type": "code",
   "execution_count": 23,
   "metadata": {},
   "outputs": [
    {
     "data": {
      "text/plain": [
       "<matplotlib.image.AxesImage at 0x5b1bc24208>"
      ]
     },
     "execution_count": 23,
     "metadata": {},
     "output_type": "execute_result"
    },
    {
     "data": {
      "image/png": "[encoded data removed]",
      "text/plain": [
       "<Figure size 432x288 with 1 Axes>"
      ]
     },
     "metadata": {},
     "output_type": "display_data"
    }
   ],
   "source": [
    "plt.imshow(x[5].reshape(8,8),cmap=plt.cm.gray)"
   ]
  },
  {
   "cell_type": "code",
   "execution_count": 26,
   "metadata": {},
   "outputs": [],
   "source": [
    "#Question 3\n",
    "x_train,x_test,y_train,y_test=train_test_split(x,y,test_size=0.3)"
   ]
  },
  {
   "cell_type": "code",
   "execution_count": 27,
   "metadata": {},
   "outputs": [],
   "source": [
    "#Question 4\n",
    "from sklearn.preprocessing import *"
   ]
  },
  {
   "cell_type": "code",
   "execution_count": 28,
   "metadata": {},
   "outputs": [],
   "source": [
    "reg = LogisticRegression()"
   ]
  },
  {
   "cell_type": "code",
   "execution_count": 29,
   "metadata": {},
   "outputs": [
    {
     "data": {
      "text/plain": [
       "LogisticRegression(C=1.0, class_weight=None, dual=False, fit_intercept=True,\n",
       "          intercept_scaling=1, max_iter=100, multi_class='ovr', n_jobs=1,\n",
       "          penalty='l2', random_state=None, solver='liblinear', tol=0.0001,\n",
       "          verbose=0, warm_start=False)"
      ]
     },
     "execution_count": 29,
     "metadata": {},
     "output_type": "execute_result"
    }
   ],
   "source": [
    "reg.fit(x_train,y_train)"
   ]
  },
  {
   "cell_type": "code",
   "execution_count": 31,
   "metadata": {},
   "outputs": [
    {
     "data": {
      "text/plain": [
       "array([7, 1, 5, 3, 3, 6, 2, 2, 2, 0, 0, 5, 5, 7, 6, 1, 2, 8, 8, 8, 3, 1,\n",
       "       1, 3, 6, 7, 8, 5, 4, 8, 7, 9, 0, 5, 9, 1, 1, 2, 9, 3, 3, 8, 5, 4,\n",
       "       4, 2, 3, 3, 6, 0, 1, 8, 5, 7, 4, 8, 5, 2, 0, 0, 5, 8, 6, 9, 5, 9,\n",
       "       8, 6, 8, 7, 2, 5, 7, 1, 8, 6, 0, 4, 8, 5, 4, 5, 7, 0, 1, 0, 2, 4,\n",
       "       7, 1, 1, 7, 4, 8, 7, 5, 7, 0, 6, 3, 1, 8, 3, 0, 1, 8, 9, 8, 9, 5,\n",
       "       5, 9, 0, 0, 1, 1, 4, 2, 0, 9, 3, 3, 2, 7, 6, 5, 5, 1, 1, 7, 6, 3,\n",
       "       3, 5, 2, 3, 1, 7, 7, 1, 3, 7, 9, 3, 1, 8, 7, 5, 3, 7, 0, 1, 6, 4,\n",
       "       6, 8, 0, 1, 5, 9, 2, 0, 2, 0, 5, 0, 9, 6, 2, 0, 4, 4, 1, 2, 4, 5,\n",
       "       5, 1, 0, 8, 2, 3, 0, 7, 9, 2, 3, 9, 2, 4, 2, 7, 9, 7, 0, 9, 5, 5,\n",
       "       4, 8, 4, 4, 2, 4, 7, 3, 4, 3, 3, 9, 6, 8, 5, 8, 4, 4, 9, 1, 1, 5,\n",
       "       2, 8, 2, 2, 9, 8, 1, 1, 2, 7, 3, 1, 7, 4, 9, 2, 3, 1, 6, 9, 3, 0,\n",
       "       0, 8, 4, 0, 4, 0, 4, 7, 3, 6, 5, 2, 7, 3, 3, 8, 4, 1, 2, 2, 0, 0,\n",
       "       8, 7, 8, 1, 8, 3, 7, 2, 2, 5, 2, 7, 8, 4, 3, 3, 4, 1, 3, 1, 2, 7,\n",
       "       7, 6, 4, 2, 3, 5, 3, 6, 6, 8, 7, 6, 6, 7, 2, 9, 9, 6, 3, 0, 6, 8,\n",
       "       8, 0, 5, 9, 4, 0, 3, 6, 9, 0, 2, 1, 3, 7, 3, 9, 8, 4, 4, 8, 6, 7,\n",
       "       6, 5, 9, 1, 4, 1, 9, 3, 3, 2, 3, 8, 0, 2, 7, 0, 1, 2, 8, 8, 3, 8,\n",
       "       5, 9, 4, 9, 7, 1, 6, 4, 9, 8, 7, 8, 2, 3, 7, 1, 2, 3, 4, 3, 2, 9,\n",
       "       3, 9, 0, 2, 5, 2, 9, 0, 7, 2, 3, 4, 4, 6, 9, 9, 5, 8, 6, 5, 9, 4,\n",
       "       8, 0, 9, 6, 9, 4, 5, 1, 4, 6, 0, 0, 3, 5, 9, 7, 4, 3, 5, 6, 3, 8,\n",
       "       7, 4, 5, 3, 8, 2, 0, 4, 5, 3, 0, 2, 7, 3, 4, 5, 7, 2, 6, 5, 2, 1,\n",
       "       0, 7, 7, 4, 6, 2, 1, 0, 9, 6, 3, 8, 1, 9, 6, 9, 0, 6, 1, 9, 3, 8,\n",
       "       5, 6, 1, 5, 0, 7, 1, 1, 5, 7, 1, 9, 6, 1, 2, 8, 4, 0, 4, 3, 1, 9,\n",
       "       4, 9, 2, 6, 8, 1, 4, 4, 5, 9, 2, 0, 9, 6, 5, 1, 3, 0, 1, 7, 7, 6,\n",
       "       1, 1, 3, 4, 9, 6, 5, 5, 6, 8, 3, 3, 3, 7, 5, 2, 9, 7, 6, 9, 4, 9,\n",
       "       6, 6, 4, 8, 4, 9, 9, 8, 9, 1, 5, 0])"
      ]
     },
     "execution_count": 31,
     "metadata": {},
     "output_type": "execute_result"
    }
   ],
   "source": [
    "predict=reg.predict(x_test)\n",
    "predict"
   ]
  },
  {
   "cell_type": "code",
   "execution_count": 32,
   "metadata": {},
   "outputs": [
    {
     "data": {
      "text/html": [
       "<div>\n",
       "<style scoped>\n",
       "    .dataframe tbody tr th:only-of-type {\n",
       "        vertical-align: middle;\n",
       "    }\n",
       "\n",
       "    .dataframe tbody tr th {\n",
       "        vertical-align: top;\n",
       "    }\n",
       "\n",
       "    .dataframe thead th {\n",
       "        text-align: right;\n",
       "    }\n",
       "</style>\n",
       "<table border=\"1\" class=\"dataframe\">\n",
       "  <thead>\n",
       "    <tr style=\"text-align: right;\">\n",
       "      <th></th>\n",
       "      <th>Actual</th>\n",
       "      <th>predicted</th>\n",
       "    </tr>\n",
       "  </thead>\n",
       "  <tbody>\n",
       "    <tr>\n",
       "      <th>0</th>\n",
       "      <td>7</td>\n",
       "      <td>7</td>\n",
       "    </tr>\n",
       "    <tr>\n",
       "      <th>1</th>\n",
       "      <td>1</td>\n",
       "      <td>1</td>\n",
       "    </tr>\n",
       "    <tr>\n",
       "      <th>2</th>\n",
       "      <td>6</td>\n",
       "      <td>5</td>\n",
       "    </tr>\n",
       "    <tr>\n",
       "      <th>3</th>\n",
       "      <td>3</td>\n",
       "      <td>3</td>\n",
       "    </tr>\n",
       "    <tr>\n",
       "      <th>4</th>\n",
       "      <td>3</td>\n",
       "      <td>3</td>\n",
       "    </tr>\n",
       "    <tr>\n",
       "      <th>5</th>\n",
       "      <td>6</td>\n",
       "      <td>6</td>\n",
       "    </tr>\n",
       "    <tr>\n",
       "      <th>6</th>\n",
       "      <td>2</td>\n",
       "      <td>2</td>\n",
       "    </tr>\n",
       "    <tr>\n",
       "      <th>7</th>\n",
       "      <td>2</td>\n",
       "      <td>2</td>\n",
       "    </tr>\n",
       "    <tr>\n",
       "      <th>8</th>\n",
       "      <td>2</td>\n",
       "      <td>2</td>\n",
       "    </tr>\n",
       "    <tr>\n",
       "      <th>9</th>\n",
       "      <td>0</td>\n",
       "      <td>0</td>\n",
       "    </tr>\n",
       "    <tr>\n",
       "      <th>10</th>\n",
       "      <td>0</td>\n",
       "      <td>0</td>\n",
       "    </tr>\n",
       "    <tr>\n",
       "      <th>11</th>\n",
       "      <td>5</td>\n",
       "      <td>5</td>\n",
       "    </tr>\n",
       "    <tr>\n",
       "      <th>12</th>\n",
       "      <td>5</td>\n",
       "      <td>5</td>\n",
       "    </tr>\n",
       "    <tr>\n",
       "      <th>13</th>\n",
       "      <td>7</td>\n",
       "      <td>7</td>\n",
       "    </tr>\n",
       "    <tr>\n",
       "      <th>14</th>\n",
       "      <td>6</td>\n",
       "      <td>6</td>\n",
       "    </tr>\n",
       "    <tr>\n",
       "      <th>15</th>\n",
       "      <td>1</td>\n",
       "      <td>1</td>\n",
       "    </tr>\n",
       "    <tr>\n",
       "      <th>16</th>\n",
       "      <td>2</td>\n",
       "      <td>2</td>\n",
       "    </tr>\n",
       "    <tr>\n",
       "      <th>17</th>\n",
       "      <td>8</td>\n",
       "      <td>8</td>\n",
       "    </tr>\n",
       "    <tr>\n",
       "      <th>18</th>\n",
       "      <td>8</td>\n",
       "      <td>8</td>\n",
       "    </tr>\n",
       "    <tr>\n",
       "      <th>19</th>\n",
       "      <td>8</td>\n",
       "      <td>8</td>\n",
       "    </tr>\n",
       "    <tr>\n",
       "      <th>20</th>\n",
       "      <td>3</td>\n",
       "      <td>3</td>\n",
       "    </tr>\n",
       "    <tr>\n",
       "      <th>21</th>\n",
       "      <td>1</td>\n",
       "      <td>1</td>\n",
       "    </tr>\n",
       "    <tr>\n",
       "      <th>22</th>\n",
       "      <td>1</td>\n",
       "      <td>1</td>\n",
       "    </tr>\n",
       "    <tr>\n",
       "      <th>23</th>\n",
       "      <td>2</td>\n",
       "      <td>3</td>\n",
       "    </tr>\n",
       "    <tr>\n",
       "      <th>24</th>\n",
       "      <td>6</td>\n",
       "      <td>6</td>\n",
       "    </tr>\n",
       "    <tr>\n",
       "      <th>25</th>\n",
       "      <td>7</td>\n",
       "      <td>7</td>\n",
       "    </tr>\n",
       "    <tr>\n",
       "      <th>26</th>\n",
       "      <td>7</td>\n",
       "      <td>8</td>\n",
       "    </tr>\n",
       "    <tr>\n",
       "      <th>27</th>\n",
       "      <td>5</td>\n",
       "      <td>5</td>\n",
       "    </tr>\n",
       "    <tr>\n",
       "      <th>28</th>\n",
       "      <td>4</td>\n",
       "      <td>4</td>\n",
       "    </tr>\n",
       "    <tr>\n",
       "      <th>29</th>\n",
       "      <td>8</td>\n",
       "      <td>8</td>\n",
       "    </tr>\n",
       "    <tr>\n",
       "      <th>...</th>\n",
       "      <td>...</td>\n",
       "      <td>...</td>\n",
       "    </tr>\n",
       "    <tr>\n",
       "      <th>510</th>\n",
       "      <td>9</td>\n",
       "      <td>9</td>\n",
       "    </tr>\n",
       "    <tr>\n",
       "      <th>511</th>\n",
       "      <td>6</td>\n",
       "      <td>6</td>\n",
       "    </tr>\n",
       "    <tr>\n",
       "      <th>512</th>\n",
       "      <td>5</td>\n",
       "      <td>5</td>\n",
       "    </tr>\n",
       "    <tr>\n",
       "      <th>513</th>\n",
       "      <td>5</td>\n",
       "      <td>5</td>\n",
       "    </tr>\n",
       "    <tr>\n",
       "      <th>514</th>\n",
       "      <td>6</td>\n",
       "      <td>6</td>\n",
       "    </tr>\n",
       "    <tr>\n",
       "      <th>515</th>\n",
       "      <td>8</td>\n",
       "      <td>8</td>\n",
       "    </tr>\n",
       "    <tr>\n",
       "      <th>516</th>\n",
       "      <td>3</td>\n",
       "      <td>3</td>\n",
       "    </tr>\n",
       "    <tr>\n",
       "      <th>517</th>\n",
       "      <td>3</td>\n",
       "      <td>3</td>\n",
       "    </tr>\n",
       "    <tr>\n",
       "      <th>518</th>\n",
       "      <td>3</td>\n",
       "      <td>3</td>\n",
       "    </tr>\n",
       "    <tr>\n",
       "      <th>519</th>\n",
       "      <td>4</td>\n",
       "      <td>7</td>\n",
       "    </tr>\n",
       "    <tr>\n",
       "      <th>520</th>\n",
       "      <td>5</td>\n",
       "      <td>5</td>\n",
       "    </tr>\n",
       "    <tr>\n",
       "      <th>521</th>\n",
       "      <td>2</td>\n",
       "      <td>2</td>\n",
       "    </tr>\n",
       "    <tr>\n",
       "      <th>522</th>\n",
       "      <td>9</td>\n",
       "      <td>9</td>\n",
       "    </tr>\n",
       "    <tr>\n",
       "      <th>523</th>\n",
       "      <td>7</td>\n",
       "      <td>7</td>\n",
       "    </tr>\n",
       "    <tr>\n",
       "      <th>524</th>\n",
       "      <td>6</td>\n",
       "      <td>6</td>\n",
       "    </tr>\n",
       "    <tr>\n",
       "      <th>525</th>\n",
       "      <td>8</td>\n",
       "      <td>9</td>\n",
       "    </tr>\n",
       "    <tr>\n",
       "      <th>526</th>\n",
       "      <td>4</td>\n",
       "      <td>4</td>\n",
       "    </tr>\n",
       "    <tr>\n",
       "      <th>527</th>\n",
       "      <td>9</td>\n",
       "      <td>9</td>\n",
       "    </tr>\n",
       "    <tr>\n",
       "      <th>528</th>\n",
       "      <td>6</td>\n",
       "      <td>6</td>\n",
       "    </tr>\n",
       "    <tr>\n",
       "      <th>529</th>\n",
       "      <td>6</td>\n",
       "      <td>6</td>\n",
       "    </tr>\n",
       "    <tr>\n",
       "      <th>530</th>\n",
       "      <td>4</td>\n",
       "      <td>4</td>\n",
       "    </tr>\n",
       "    <tr>\n",
       "      <th>531</th>\n",
       "      <td>8</td>\n",
       "      <td>8</td>\n",
       "    </tr>\n",
       "    <tr>\n",
       "      <th>532</th>\n",
       "      <td>4</td>\n",
       "      <td>4</td>\n",
       "    </tr>\n",
       "    <tr>\n",
       "      <th>533</th>\n",
       "      <td>9</td>\n",
       "      <td>9</td>\n",
       "    </tr>\n",
       "    <tr>\n",
       "      <th>534</th>\n",
       "      <td>9</td>\n",
       "      <td>9</td>\n",
       "    </tr>\n",
       "    <tr>\n",
       "      <th>535</th>\n",
       "      <td>8</td>\n",
       "      <td>8</td>\n",
       "    </tr>\n",
       "    <tr>\n",
       "      <th>536</th>\n",
       "      <td>9</td>\n",
       "      <td>9</td>\n",
       "    </tr>\n",
       "    <tr>\n",
       "      <th>537</th>\n",
       "      <td>1</td>\n",
       "      <td>1</td>\n",
       "    </tr>\n",
       "    <tr>\n",
       "      <th>538</th>\n",
       "      <td>5</td>\n",
       "      <td>5</td>\n",
       "    </tr>\n",
       "    <tr>\n",
       "      <th>539</th>\n",
       "      <td>0</td>\n",
       "      <td>0</td>\n",
       "    </tr>\n",
       "  </tbody>\n",
       "</table>\n",
       "<p>540 rows × 2 columns</p>\n",
       "</div>"
      ],
      "text/plain": [
       "     Actual  predicted\n",
       "0         7          7\n",
       "1         1          1\n",
       "2         6          5\n",
       "3         3          3\n",
       "4         3          3\n",
       "5         6          6\n",
       "6         2          2\n",
       "7         2          2\n",
       "8         2          2\n",
       "9         0          0\n",
       "10        0          0\n",
       "11        5          5\n",
       "12        5          5\n",
       "13        7          7\n",
       "14        6          6\n",
       "15        1          1\n",
       "16        2          2\n",
       "17        8          8\n",
       "18        8          8\n",
       "19        8          8\n",
       "20        3          3\n",
       "21        1          1\n",
       "22        1          1\n",
       "23        2          3\n",
       "24        6          6\n",
       "25        7          7\n",
       "26        7          8\n",
       "27        5          5\n",
       "28        4          4\n",
       "29        8          8\n",
       "..      ...        ...\n",
       "510       9          9\n",
       "511       6          6\n",
       "512       5          5\n",
       "513       5          5\n",
       "514       6          6\n",
       "515       8          8\n",
       "516       3          3\n",
       "517       3          3\n",
       "518       3          3\n",
       "519       4          7\n",
       "520       5          5\n",
       "521       2          2\n",
       "522       9          9\n",
       "523       7          7\n",
       "524       6          6\n",
       "525       8          9\n",
       "526       4          4\n",
       "527       9          9\n",
       "528       6          6\n",
       "529       6          6\n",
       "530       4          4\n",
       "531       8          8\n",
       "532       4          4\n",
       "533       9          9\n",
       "534       9          9\n",
       "535       8          8\n",
       "536       9          9\n",
       "537       1          1\n",
       "538       5          5\n",
       "539       0          0\n",
       "\n",
       "[540 rows x 2 columns]"
      ]
     },
     "execution_count": 32,
     "metadata": {},
     "output_type": "execute_result"
    }
   ],
   "source": [
    "a=pd.DataFrame({\"Actual\":y_test,\"predicted\":predict})\n",
    "a"
   ]
  },
  {
   "cell_type": "code",
   "execution_count": 34,
   "metadata": {},
   "outputs": [
    {
     "data": {
      "text/plain": [
       "0.9611111111111111"
      ]
     },
     "execution_count": 34,
     "metadata": {},
     "output_type": "execute_result"
    }
   ],
   "source": [
    "reg.score(x_test,y_test)"
   ]
  },
  {
   "cell_type": "code",
   "execution_count": 36,
   "metadata": {},
   "outputs": [],
   "source": [
    "from sklearn.metrics import accuracy_score\n"
   ]
  },
  {
   "cell_type": "code",
   "execution_count": 37,
   "metadata": {},
   "outputs": [
    {
     "data": {
      "text/plain": [
       "0.9611111111111111"
      ]
     },
     "execution_count": 37,
     "metadata": {},
     "output_type": "execute_result"
    }
   ],
   "source": [
    "accuracy_score(y_test,predict)"
   ]
  },
  {
   "cell_type": "code",
   "execution_count": 38,
   "metadata": {},
   "outputs": [],
   "source": [
    "from sklearn.model_selection import KFold"
   ]
  },
  {
   "cell_type": "code",
   "execution_count": 40,
   "metadata": {},
   "outputs": [
    {
     "data": {
      "text/plain": [
       "array([0.90555556, 0.95      , 0.89444444, 0.91666667, 0.94444444,\n",
       "       0.97222222, 0.97777778, 0.95530726, 0.8603352 , 0.93854749])"
      ]
     },
     "execution_count": 40,
     "metadata": {},
     "output_type": "execute_result"
    }
   ],
   "source": [
    "kfold=model_selection.KFold(n_splits=10,random_state=7)\n",
    "r=model_selection.cross_val_score(reg,x,y,cv=kfold,scoring=\"accuracy\")\n",
    "r"
   ]
  },
  {
   "cell_type": "code",
   "execution_count": 41,
   "metadata": {},
   "outputs": [
    {
     "data": {
      "text/plain": [
       "0.931530105524519"
      ]
     },
     "execution_count": 41,
     "metadata": {},
     "output_type": "execute_result"
    }
   ],
   "source": [
    "r.sum()/10"
   ]
  },
  {
   "cell_type": "code",
   "execution_count": 42,
   "metadata": {},
   "outputs": [
    {
     "data": {
      "text/plain": [
       "array([[50,  0,  0,  0,  0,  0,  0,  0,  0,  0],\n",
       "       [ 0, 54,  0,  1,  0,  0,  0,  0,  2,  1],\n",
       "       [ 0,  0, 54,  1,  0,  0,  0,  0,  1,  0],\n",
       "       [ 0,  0,  0, 60,  0,  0,  0,  0,  2,  0],\n",
       "       [ 0,  0,  0,  0, 55,  0,  0,  1,  0,  0],\n",
       "       [ 0,  0,  0,  0,  0, 52,  0,  0,  0,  1],\n",
       "       [ 0,  0,  0,  0,  0,  1, 47,  0,  0,  0],\n",
       "       [ 0,  0,  0,  0,  0,  0,  0, 51,  1,  0],\n",
       "       [ 0,  3,  0,  0,  0,  0,  0,  0, 43,  1],\n",
       "       [ 0,  0,  0,  0,  0,  0,  0,  1,  4, 53]], dtype=int64)"
      ]
     },
     "execution_count": 42,
     "metadata": {},
     "output_type": "execute_result"
    }
   ],
   "source": [
    "confusion_matrix(y_test,predict)"
   ]
  },
  {
   "cell_type": "code",
   "execution_count": 43,
   "metadata": {},
   "outputs": [
    {
     "name": "stdout",
     "output_type": "stream",
     "text": [
      "             precision    recall  f1-score   support\n",
      "\n",
      "          0       1.00      1.00      1.00        50\n",
      "          1       0.95      0.93      0.94        58\n",
      "          2       1.00      0.96      0.98        56\n",
      "          3       0.97      0.97      0.97        62\n",
      "          4       1.00      0.98      0.99        56\n",
      "          5       0.98      0.98      0.98        53\n",
      "          6       1.00      0.98      0.99        48\n",
      "          7       0.96      0.98      0.97        52\n",
      "          8       0.81      0.91      0.86        47\n",
      "          9       0.95      0.91      0.93        58\n",
      "\n",
      "avg / total       0.96      0.96      0.96       540\n",
      "\n"
     ]
    }
   ],
   "source": [
    "print(classification_report(y_test,predict))"
   ]
  },
  {
   "cell_type": "code",
   "execution_count": 44,
   "metadata": {},
   "outputs": [
    {
     "data": {
      "text/plain": [
       "LinearRegression(copy_X=True, fit_intercept=True, n_jobs=1, normalize=False)"
      ]
     },
     "execution_count": 44,
     "metadata": {},
     "output_type": "execute_result"
    }
   ],
   "source": [
    "reg=LinearRegression()\n",
    "reg.fit(x_train,y_train)"
   ]
  },
  {
   "cell_type": "code",
   "execution_count": 45,
   "metadata": {},
   "outputs": [
    {
     "data": {
      "text/plain": [
       "array([ 5.4917228 ,  3.04863666,  6.1920726 ,  3.33540704,  7.39655922,\n",
       "        5.97580794,  2.07638199,  2.16856035,  1.26484488,  1.96949712,\n",
       "        2.78876224,  4.78538758,  2.65639284,  8.27660206,  4.04112675,\n",
       "        2.04034328,  0.60178018,  8.02534864,  7.12844442,  7.95782064,\n",
       "        5.31607172,  3.04192173,  1.39706101,  2.34483893,  3.77178795,\n",
       "        5.96575843,  7.47914178,  6.68999929,  5.51950228,  8.41466638,\n",
       "        7.06424064,  7.59207279,  0.66762603,  6.36596543,  3.82733093,\n",
       "        2.44273449,  0.78261438,  1.63662693,  6.32609983,  4.03482319,\n",
       "        6.65030971,  6.05321894,  4.19518189,  3.35185346,  5.52703387,\n",
       "        1.92693877,  3.84894712,  3.11995344,  4.64027692,  2.07174519,\n",
       "        2.60758973,  5.20866269,  4.24013744,  5.87014809,  2.78722094,\n",
       "        6.39934122,  7.03366151,  2.4448357 ,  1.40088235,  0.97085567,\n",
       "        4.15935432,  6.47901991,  4.70289784,  6.42027535,  6.09600059,\n",
       "        6.40414998,  8.09545673,  5.05103278,  4.35203982,  6.96424156,\n",
       "        2.25556725,  3.91106207,  5.61724353,  3.64667557,  6.63588396,\n",
       "        5.22824443,  1.80965097,  6.35418992,  6.99433887,  4.10387142,\n",
       "        4.61342677,  4.32319432,  6.04331948,  1.27388876,  2.65714302,\n",
       "       -2.41283626,  1.591993  ,  2.33298221,  6.15300936,  3.51951087,\n",
       "        4.46488374,  6.32639652,  3.029753  ,  5.30783014,  6.95490409,\n",
       "        6.52614333,  5.75913696, -1.29792405,  3.62028296,  5.60614028,\n",
       "        2.63032753,  6.34249907,  6.59286226,  1.1481594 ,  2.60021658,\n",
       "        8.22049294,  4.88935277,  2.02320707,  5.38118068,  4.66773477,\n",
       "        4.93814534,  6.85890503,  4.31049006,  1.33293982,  3.12685026,\n",
       "        1.91720121,  4.69954373,  0.46848827,  1.04044161,  5.80465021,\n",
       "        3.06864773,  3.54092337,  1.11459915,  5.05698793,  4.36545181,\n",
       "        3.71545305,  4.8930866 ,  3.40490669,  2.77757237,  7.80902279,\n",
       "        5.46385806,  3.26669866,  4.7950079 ,  6.02527647,  3.72193925,\n",
       "        5.5302696 ,  1.96160552,  7.06511338,  7.03361496,  4.01376677,\n",
       "        7.50843241,  5.8442628 ,  7.53635283,  4.24892703,  3.31310541,\n",
       "        7.91257879,  4.82219588,  4.82376156,  2.56703852,  6.13120796,\n",
       "        1.06509625,  1.51923215,  5.24760578,  4.2984573 ,  5.09776448,\n",
       "        6.93844354,  0.97774213,  3.9806818 ,  3.83345871,  7.16016211,\n",
       "        1.74084795,  2.02609126,  3.24515233,  2.44956996,  5.48557593,\n",
       "       -0.53964778,  7.05239551,  5.3186066 ,  4.41841556,  3.00289247,\n",
       "        1.22789117,  3.94289561,  3.84499547, -0.35472221,  5.0457453 ,\n",
       "        5.16256316,  4.53571305,  3.09518001, -0.30459224,  5.90032471,\n",
       "        2.56165896,  4.53152253,  0.09001037,  6.46076854,  6.37300092,\n",
       "        0.75628779,  5.01464978,  5.58850672,  3.2175951 ,  5.38211332,\n",
       "        3.2002607 ,  5.50821827,  8.16586614,  5.19832318,  1.8791219 ,\n",
       "        5.57458985,  5.75697818,  6.258075  ,  4.72413762,  5.7939672 ,\n",
       "        3.42382146,  4.19335772, -0.56735674,  3.52399879,  7.49918516,\n",
       "        6.01410034,  4.62226681,  4.60608826,  5.58354529,  8.05626632,\n",
       "        3.37598834,  6.61801942,  4.53847363,  5.48415157,  6.57789647,\n",
       "        3.46046779,  6.99460956,  3.58143908,  2.31792998,  2.82390497,\n",
       "        3.0911686 ,  6.28478407,  4.72648464,  1.72353845,  6.18707586,\n",
       "        7.10311872,  3.12860352,  2.72862368,  1.90160213,  5.23420978,\n",
       "        5.80370204,  1.8637228 ,  5.8232342 ,  3.80987932,  7.54802875,\n",
       "        4.50792425,  4.53768986,  1.70753577,  6.2881625 ,  6.96405573,\n",
       "        1.62782719,  2.78297056, -0.10919289,  7.55621757,  1.12165591,\n",
       "        3.26391061,  1.83033722,  3.7192166 ,  4.56941056,  6.99650969,\n",
       "        7.37998054,  6.71950889,  5.421159  ,  3.07971584,  7.28764495,\n",
       "        1.35996702,  5.15566436,  5.83371357,  4.46517886,  2.85038238,\n",
       "        1.34219666,  2.93031757,  0.88232271,  0.26118141,  3.64411563,\n",
       "        7.24388315,  5.95326801,  2.01709907,  6.02565673,  3.41438573,\n",
       "        4.62371114,  1.87134762,  3.04336786,  6.25361119,  2.91449741,\n",
       "        6.54018712,  7.31783397,  3.74832346,  5.10079611,  5.86846613,\n",
       "        5.66666556,  3.71877794,  6.11031247,  2.6278503 ,  2.09871073,\n",
       "        6.62289579,  7.53165118,  4.73827272,  8.27100388,  2.69164981,\n",
       "        0.37412619,  5.93062461,  4.69982241,  5.55125739,  5.34380769,\n",
       "        4.82611875,  5.91729567,  5.90362665,  4.10898841,  6.89972176,\n",
       "        3.19911243,  7.90011019,  3.18492626,  6.78479148,  3.6367542 ,\n",
       "        1.377041  ,  3.9317802 ,  6.3478019 ,  5.91199526,  2.67373215,\n",
       "        5.11542158,  4.63352931,  4.29253542,  3.33181734,  5.23835972,\n",
       "        5.5849261 ,  4.25783001, -0.04922043,  0.9604072 ,  1.79929452,\n",
       "        3.20553743,  7.64567313,  1.32248495,  7.42941731,  5.40244871,\n",
       "        3.93169703,  3.20227266,  9.23130797,  3.56950775,  5.9122185 ,\n",
       "        8.17147359,  6.94118491,  3.98137032,  3.9679572 ,  1.65329603,\n",
       "        3.15051388,  7.23544861,  6.25316715,  5.28802525,  1.39383227,\n",
       "        4.21443079,  3.33965878,  2.19525374,  1.3079587 ,  7.24667627,\n",
       "        0.28267771,  4.14632919,  1.59384813,  7.53118073,  7.84414833,\n",
       "        3.99610184,  5.50528783,  3.30793642,  8.07840786,  2.12395545,\n",
       "        8.35538593,  4.87554944,  2.9339808 ,  4.420271  ,  4.52340321,\n",
       "        5.24841843,  4.76517388,  6.99335148,  7.4418776 ,  1.55593488,\n",
       "        3.4913907 ,  7.05636692,  2.75124764,  2.26209856,  4.46741094,\n",
       "        2.59229434,  4.46068454,  2.09159927,  5.54654485,  5.76448713,\n",
       "        5.60405616,  1.75014348,  3.27464684,  4.62793707,  1.11057054,\n",
       "        7.12283822,  2.27415668,  6.54880121,  3.17415244,  4.9258191 ,\n",
       "        3.49259595,  3.42134202,  4.99436828,  6.36046361,  8.3958278 ,\n",
       "        4.35728844,  7.58641772,  3.73631662,  7.04882888,  3.78201084,\n",
       "        5.32150988,  8.62625324,  1.53399467,  5.85242924,  4.41318434,\n",
       "        5.10620672,  6.14273104,  6.07800878,  2.69597088,  3.38844408,\n",
       "        4.3731761 ,  3.01549989,  0.58984888,  3.89772836,  6.38029779,\n",
       "        7.56669647,  5.23713131,  2.91992591,  5.89841251,  5.35286698,\n",
       "        6.38040031,  3.73041551,  4.81176125,  4.86877617,  4.45177851,\n",
       "        6.09607624,  4.74881245,  7.69451429,  3.25499748,  1.69336191,\n",
       "        3.9595538 ,  3.06998007,  1.11968242,  1.13260435,  1.83368735,\n",
       "        6.56137652,  7.17947898,  4.92410182,  4.04397338,  7.45428147,\n",
       "        3.22212378,  3.82440777,  6.36852151,  2.80196753,  1.01099242,\n",
       "        3.2968346 ,  6.87773392,  4.75880767,  3.83175508,  4.82240058,\n",
       "        1.49861387,  2.45219295,  0.46380153,  6.34864592,  5.93680433,\n",
       "        2.8727175 ,  9.16291893,  2.94510913,  7.61977031,  4.11616315,\n",
       "        5.91174553,  0.68921418,  5.57858337,  2.4761649 ,  3.20406723,\n",
       "        4.83035927,  5.37655629,  5.75281759,  6.49402321,  3.7381258 ,\n",
       "        7.22266459,  2.9524315 ,  8.60492225,  2.95490383,  0.86021903,\n",
       "        6.76803473,  6.47474751,  1.43936991,  5.03362722,  6.03552178,\n",
       "        3.31445491,  3.75823466,  8.69189734,  4.68425522,  0.36027431,\n",
       "        5.0814402 ,  7.59669787,  3.09466165,  7.05861006,  4.79413139,\n",
       "        8.218838  ,  1.86594793,  5.28267791,  5.91722591,  1.88831877,\n",
       "        5.04748603,  4.52701949,  4.18573862,  8.89222504,  2.23362374,\n",
       "        1.09312855,  5.30896053,  4.7421004 ,  7.24367913,  2.45421873,\n",
       "        5.71866645,  1.78111498,  3.16155777,  5.99271378,  5.54935124,\n",
       "        3.39902262,  1.14435716,  1.8540389 ,  2.9961335 ,  4.45872195,\n",
       "        7.71099547,  5.8445707 ,  8.08204413,  5.68853294,  4.0648952 ,\n",
       "        5.37562077,  3.03185655,  4.16704042,  3.39445254,  5.94311389,\n",
       "        6.65108827,  4.69947102,  8.33750776,  7.45615674,  6.03556806,\n",
       "        5.86429771,  3.12325957,  5.76752599,  5.98569007,  3.60286332,\n",
       "        3.27868656,  6.69569835,  4.11446282,  8.98506019,  8.2437603 ,\n",
       "        8.88298161,  5.65886874,  4.7115583 ,  8.63494624,  1.00736993])"
      ]
     },
     "execution_count": 45,
     "metadata": {},
     "output_type": "execute_result"
    }
   ],
   "source": [
    "z=reg.predict(x_test)\n",
    "z"
   ]
  },
  {
   "cell_type": "code",
   "execution_count": 46,
   "metadata": {},
   "outputs": [
    {
     "data": {
      "text/html": [
       "<div>\n",
       "<style scoped>\n",
       "    .dataframe tbody tr th:only-of-type {\n",
       "        vertical-align: middle;\n",
       "    }\n",
       "\n",
       "    .dataframe tbody tr th {\n",
       "        vertical-align: top;\n",
       "    }\n",
       "\n",
       "    .dataframe thead th {\n",
       "        text-align: right;\n",
       "    }\n",
       "</style>\n",
       "<table border=\"1\" class=\"dataframe\">\n",
       "  <thead>\n",
       "    <tr style=\"text-align: right;\">\n",
       "      <th></th>\n",
       "      <th>Actual</th>\n",
       "      <th>predicted</th>\n",
       "    </tr>\n",
       "  </thead>\n",
       "  <tbody>\n",
       "    <tr>\n",
       "      <th>0</th>\n",
       "      <td>7</td>\n",
       "      <td>5.491723</td>\n",
       "    </tr>\n",
       "    <tr>\n",
       "      <th>1</th>\n",
       "      <td>1</td>\n",
       "      <td>3.048637</td>\n",
       "    </tr>\n",
       "    <tr>\n",
       "      <th>2</th>\n",
       "      <td>6</td>\n",
       "      <td>6.192073</td>\n",
       "    </tr>\n",
       "    <tr>\n",
       "      <th>3</th>\n",
       "      <td>3</td>\n",
       "      <td>3.335407</td>\n",
       "    </tr>\n",
       "    <tr>\n",
       "      <th>4</th>\n",
       "      <td>3</td>\n",
       "      <td>7.396559</td>\n",
       "    </tr>\n",
       "    <tr>\n",
       "      <th>5</th>\n",
       "      <td>6</td>\n",
       "      <td>5.975808</td>\n",
       "    </tr>\n",
       "    <tr>\n",
       "      <th>6</th>\n",
       "      <td>2</td>\n",
       "      <td>2.076382</td>\n",
       "    </tr>\n",
       "    <tr>\n",
       "      <th>7</th>\n",
       "      <td>2</td>\n",
       "      <td>2.168560</td>\n",
       "    </tr>\n",
       "    <tr>\n",
       "      <th>8</th>\n",
       "      <td>2</td>\n",
       "      <td>1.264845</td>\n",
       "    </tr>\n",
       "    <tr>\n",
       "      <th>9</th>\n",
       "      <td>0</td>\n",
       "      <td>1.969497</td>\n",
       "    </tr>\n",
       "    <tr>\n",
       "      <th>10</th>\n",
       "      <td>0</td>\n",
       "      <td>2.788762</td>\n",
       "    </tr>\n",
       "    <tr>\n",
       "      <th>11</th>\n",
       "      <td>5</td>\n",
       "      <td>4.785388</td>\n",
       "    </tr>\n",
       "    <tr>\n",
       "      <th>12</th>\n",
       "      <td>5</td>\n",
       "      <td>2.656393</td>\n",
       "    </tr>\n",
       "    <tr>\n",
       "      <th>13</th>\n",
       "      <td>7</td>\n",
       "      <td>8.276602</td>\n",
       "    </tr>\n",
       "    <tr>\n",
       "      <th>14</th>\n",
       "      <td>6</td>\n",
       "      <td>4.041127</td>\n",
       "    </tr>\n",
       "    <tr>\n",
       "      <th>15</th>\n",
       "      <td>1</td>\n",
       "      <td>2.040343</td>\n",
       "    </tr>\n",
       "    <tr>\n",
       "      <th>16</th>\n",
       "      <td>2</td>\n",
       "      <td>0.601780</td>\n",
       "    </tr>\n",
       "    <tr>\n",
       "      <th>17</th>\n",
       "      <td>8</td>\n",
       "      <td>8.025349</td>\n",
       "    </tr>\n",
       "    <tr>\n",
       "      <th>18</th>\n",
       "      <td>8</td>\n",
       "      <td>7.128444</td>\n",
       "    </tr>\n",
       "    <tr>\n",
       "      <th>19</th>\n",
       "      <td>8</td>\n",
       "      <td>7.957821</td>\n",
       "    </tr>\n",
       "    <tr>\n",
       "      <th>20</th>\n",
       "      <td>3</td>\n",
       "      <td>5.316072</td>\n",
       "    </tr>\n",
       "    <tr>\n",
       "      <th>21</th>\n",
       "      <td>1</td>\n",
       "      <td>3.041922</td>\n",
       "    </tr>\n",
       "    <tr>\n",
       "      <th>22</th>\n",
       "      <td>1</td>\n",
       "      <td>1.397061</td>\n",
       "    </tr>\n",
       "    <tr>\n",
       "      <th>23</th>\n",
       "      <td>2</td>\n",
       "      <td>2.344839</td>\n",
       "    </tr>\n",
       "    <tr>\n",
       "      <th>24</th>\n",
       "      <td>6</td>\n",
       "      <td>3.771788</td>\n",
       "    </tr>\n",
       "    <tr>\n",
       "      <th>25</th>\n",
       "      <td>7</td>\n",
       "      <td>5.965758</td>\n",
       "    </tr>\n",
       "    <tr>\n",
       "      <th>26</th>\n",
       "      <td>7</td>\n",
       "      <td>7.479142</td>\n",
       "    </tr>\n",
       "    <tr>\n",
       "      <th>27</th>\n",
       "      <td>5</td>\n",
       "      <td>6.689999</td>\n",
       "    </tr>\n",
       "    <tr>\n",
       "      <th>28</th>\n",
       "      <td>4</td>\n",
       "      <td>5.519502</td>\n",
       "    </tr>\n",
       "    <tr>\n",
       "      <th>29</th>\n",
       "      <td>8</td>\n",
       "      <td>8.414666</td>\n",
       "    </tr>\n",
       "    <tr>\n",
       "      <th>...</th>\n",
       "      <td>...</td>\n",
       "      <td>...</td>\n",
       "    </tr>\n",
       "    <tr>\n",
       "      <th>510</th>\n",
       "      <td>9</td>\n",
       "      <td>7.710995</td>\n",
       "    </tr>\n",
       "    <tr>\n",
       "      <th>511</th>\n",
       "      <td>6</td>\n",
       "      <td>5.844571</td>\n",
       "    </tr>\n",
       "    <tr>\n",
       "      <th>512</th>\n",
       "      <td>5</td>\n",
       "      <td>8.082044</td>\n",
       "    </tr>\n",
       "    <tr>\n",
       "      <th>513</th>\n",
       "      <td>5</td>\n",
       "      <td>5.688533</td>\n",
       "    </tr>\n",
       "    <tr>\n",
       "      <th>514</th>\n",
       "      <td>6</td>\n",
       "      <td>4.064895</td>\n",
       "    </tr>\n",
       "    <tr>\n",
       "      <th>515</th>\n",
       "      <td>8</td>\n",
       "      <td>5.375621</td>\n",
       "    </tr>\n",
       "    <tr>\n",
       "      <th>516</th>\n",
       "      <td>3</td>\n",
       "      <td>3.031857</td>\n",
       "    </tr>\n",
       "    <tr>\n",
       "      <th>517</th>\n",
       "      <td>3</td>\n",
       "      <td>4.167040</td>\n",
       "    </tr>\n",
       "    <tr>\n",
       "      <th>518</th>\n",
       "      <td>3</td>\n",
       "      <td>3.394453</td>\n",
       "    </tr>\n",
       "    <tr>\n",
       "      <th>519</th>\n",
       "      <td>4</td>\n",
       "      <td>5.943114</td>\n",
       "    </tr>\n",
       "    <tr>\n",
       "      <th>520</th>\n",
       "      <td>5</td>\n",
       "      <td>6.651088</td>\n",
       "    </tr>\n",
       "    <tr>\n",
       "      <th>521</th>\n",
       "      <td>2</td>\n",
       "      <td>4.699471</td>\n",
       "    </tr>\n",
       "    <tr>\n",
       "      <th>522</th>\n",
       "      <td>9</td>\n",
       "      <td>8.337508</td>\n",
       "    </tr>\n",
       "    <tr>\n",
       "      <th>523</th>\n",
       "      <td>7</td>\n",
       "      <td>7.456157</td>\n",
       "    </tr>\n",
       "    <tr>\n",
       "      <th>524</th>\n",
       "      <td>6</td>\n",
       "      <td>6.035568</td>\n",
       "    </tr>\n",
       "    <tr>\n",
       "      <th>525</th>\n",
       "      <td>8</td>\n",
       "      <td>5.864298</td>\n",
       "    </tr>\n",
       "    <tr>\n",
       "      <th>526</th>\n",
       "      <td>4</td>\n",
       "      <td>3.123260</td>\n",
       "    </tr>\n",
       "    <tr>\n",
       "      <th>527</th>\n",
       "      <td>9</td>\n",
       "      <td>5.767526</td>\n",
       "    </tr>\n",
       "    <tr>\n",
       "      <th>528</th>\n",
       "      <td>6</td>\n",
       "      <td>5.985690</td>\n",
       "    </tr>\n",
       "    <tr>\n",
       "      <th>529</th>\n",
       "      <td>6</td>\n",
       "      <td>3.602863</td>\n",
       "    </tr>\n",
       "    <tr>\n",
       "      <th>530</th>\n",
       "      <td>4</td>\n",
       "      <td>3.278687</td>\n",
       "    </tr>\n",
       "    <tr>\n",
       "      <th>531</th>\n",
       "      <td>8</td>\n",
       "      <td>6.695698</td>\n",
       "    </tr>\n",
       "    <tr>\n",
       "      <th>532</th>\n",
       "      <td>4</td>\n",
       "      <td>4.114463</td>\n",
       "    </tr>\n",
       "    <tr>\n",
       "      <th>533</th>\n",
       "      <td>9</td>\n",
       "      <td>8.985060</td>\n",
       "    </tr>\n",
       "    <tr>\n",
       "      <th>534</th>\n",
       "      <td>9</td>\n",
       "      <td>8.243760</td>\n",
       "    </tr>\n",
       "    <tr>\n",
       "      <th>535</th>\n",
       "      <td>8</td>\n",
       "      <td>8.882982</td>\n",
       "    </tr>\n",
       "    <tr>\n",
       "      <th>536</th>\n",
       "      <td>9</td>\n",
       "      <td>5.658869</td>\n",
       "    </tr>\n",
       "    <tr>\n",
       "      <th>537</th>\n",
       "      <td>1</td>\n",
       "      <td>4.711558</td>\n",
       "    </tr>\n",
       "    <tr>\n",
       "      <th>538</th>\n",
       "      <td>5</td>\n",
       "      <td>8.634946</td>\n",
       "    </tr>\n",
       "    <tr>\n",
       "      <th>539</th>\n",
       "      <td>0</td>\n",
       "      <td>1.007370</td>\n",
       "    </tr>\n",
       "  </tbody>\n",
       "</table>\n",
       "<p>540 rows × 2 columns</p>\n",
       "</div>"
      ],
      "text/plain": [
       "     Actual  predicted\n",
       "0         7   5.491723\n",
       "1         1   3.048637\n",
       "2         6   6.192073\n",
       "3         3   3.335407\n",
       "4         3   7.396559\n",
       "5         6   5.975808\n",
       "6         2   2.076382\n",
       "7         2   2.168560\n",
       "8         2   1.264845\n",
       "9         0   1.969497\n",
       "10        0   2.788762\n",
       "11        5   4.785388\n",
       "12        5   2.656393\n",
       "13        7   8.276602\n",
       "14        6   4.041127\n",
       "15        1   2.040343\n",
       "16        2   0.601780\n",
       "17        8   8.025349\n",
       "18        8   7.128444\n",
       "19        8   7.957821\n",
       "20        3   5.316072\n",
       "21        1   3.041922\n",
       "22        1   1.397061\n",
       "23        2   2.344839\n",
       "24        6   3.771788\n",
       "25        7   5.965758\n",
       "26        7   7.479142\n",
       "27        5   6.689999\n",
       "28        4   5.519502\n",
       "29        8   8.414666\n",
       "..      ...        ...\n",
       "510       9   7.710995\n",
       "511       6   5.844571\n",
       "512       5   8.082044\n",
       "513       5   5.688533\n",
       "514       6   4.064895\n",
       "515       8   5.375621\n",
       "516       3   3.031857\n",
       "517       3   4.167040\n",
       "518       3   3.394453\n",
       "519       4   5.943114\n",
       "520       5   6.651088\n",
       "521       2   4.699471\n",
       "522       9   8.337508\n",
       "523       7   7.456157\n",
       "524       6   6.035568\n",
       "525       8   5.864298\n",
       "526       4   3.123260\n",
       "527       9   5.767526\n",
       "528       6   5.985690\n",
       "529       6   3.602863\n",
       "530       4   3.278687\n",
       "531       8   6.695698\n",
       "532       4   4.114463\n",
       "533       9   8.985060\n",
       "534       9   8.243760\n",
       "535       8   8.882982\n",
       "536       9   5.658869\n",
       "537       1   4.711558\n",
       "538       5   8.634946\n",
       "539       0   1.007370\n",
       "\n",
       "[540 rows x 2 columns]"
      ]
     },
     "execution_count": 46,
     "metadata": {},
     "output_type": "execute_result"
    }
   ],
   "source": [
    "c=pd.DataFrame({\"Actual\":y_test,\"predicted\":z})\n",
    "c"
   ]
  },
  {
   "cell_type": "code",
   "execution_count": 48,
   "metadata": {},
   "outputs": [
    {
     "data": {
      "text/plain": [
       "array([0.40105499, 0.63102463, 0.57072313, 0.59629035, 0.54519634,\n",
       "       0.67174215, 0.61763556, 0.47611004, 0.4236549 , 0.41044286])"
      ]
     },
     "execution_count": 48,
     "metadata": {},
     "output_type": "execute_result"
    }
   ],
   "source": [
    "Kfold=model_selection.KFold\n",
    "Kfold =model_selection.KFold(n_splits=10,random_state=7)\n",
    "\n",
    "res=model_selection.cross_val_score(reg,x,y,cv=Kfold,scoring=\"r2\")\n",
    "res"
   ]
  },
  {
   "cell_type": "code",
   "execution_count": 49,
   "metadata": {},
   "outputs": [],
   "source": [
    "from sklearn.metrics import mean_squared_error\n",
    "\n"
   ]
  },
  {
   "cell_type": "code",
   "execution_count": 50,
   "metadata": {},
   "outputs": [
    {
     "data": {
      "text/plain": [
       "3.6044142871736153"
      ]
     },
     "execution_count": 50,
     "metadata": {},
     "output_type": "execute_result"
    }
   ],
   "source": [
    "mean_squared_error(y_test,z)"
   ]
  },
  {
   "cell_type": "code",
   "execution_count": 52,
   "metadata": {},
   "outputs": [],
   "source": [
    "from sklearn.metrics import mean_absolute_error\n"
   ]
  },
  {
   "cell_type": "code",
   "execution_count": 53,
   "metadata": {},
   "outputs": [
    {
     "data": {
      "text/plain": [
       "1.4968720817793706"
      ]
     },
     "execution_count": 53,
     "metadata": {},
     "output_type": "execute_result"
    }
   ],
   "source": [
    "mean_absolute_error(y_test,z)"
   ]
  }
 ],
 "metadata": {
  "kernelspec": {
   "display_name": "Python 3",
   "language": "python",
   "name": "python3"
  },
  "language_info": {
   "codemirror_mode": {
    "name": "ipython",
    "version": 3
   },
   "file_extension": ".py",
   "mimetype": "text/x-python",
   "name": "python",
   "nbconvert_exporter": "python",
   "pygments_lexer": "ipython3",
   "version": "3.6.5"
  }
 },
 "nbformat": 4,
 "nbformat_minor": 2
}
